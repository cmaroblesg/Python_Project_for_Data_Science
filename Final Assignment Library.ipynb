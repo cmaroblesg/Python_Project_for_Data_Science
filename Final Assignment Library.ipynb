{
    "cells": [
        {
            "metadata": {},
            "cell_type": "markdown",
            "source": "<center>\n    <img src=\"https://s3-api.us-geo.objectstorage.softlayer.net/cf-courses-data/CognitiveClass/Logos/organization_logo/organization_logo.png\" width=\"300\" alt=\"cognitiveclass.ai logo\"  />\n</center>\n"
        },
        {
            "metadata": {},
            "cell_type": "markdown",
            "source": "<h1>Extracting Stock Data Using a Python Library</h1>\n"
        },
        {
            "metadata": {},
            "cell_type": "markdown",
            "source": "A company's stock share is a piece of the company more precisely:\n\n<p><b>A stock (also known as equity) is a security that represents the ownership\u00a0of a fraction of a\u00a0corporation. This\nentitles the owner of the stock to a proportion of the corporation's\u00a0assets\u00a0and profits equal to how much stock they own.\u00a0Units of stock are called \"shares.\" [1]</p></b>\n\nAn investor can buy a stock and sell it later. If the stock price increases, the investor profits, If it decreases,the investor with incur a loss.\u00a0\u00a0Determining the stock price is complex; it depends on the number of outstanding shares, the size of the company's future profits, and much more. People trade stocks throughout the day the stock ticker\u00a0is a report of the price of a certain stock, updated continuously throughout the trading session by the various\u00a0stock\u00a0market exchanges. \n\n<p>You are a data scientist working for a hedge fund; it's your job to determine any suspicious stock activity. In this lab you will extract stock data using a Python library. We will use the <coode>yfinance</code> library, it allows us to extract data for stocks returning data in a pandas dataframe. You will use the lab to extract.</p>\n"
        },
        {
            "metadata": {},
            "cell_type": "markdown",
            "source": "<h2>Table of Contents</h2>\n<div class=\"alert alert-block alert-info\" style=\"margin-top: 20px\">\n    <ul>\n        <li>Using yfinance to Extract Stock Info</li>\n        <li>Using yfinance to Extract Historical Share Price Data</li>\n        <li>Using yfinance to Extract Historical Dividends Data</li>\n        <li>Exercise</li>\n    </ul>\n<p>\n    Estimated Time Needed: <strong>30 min</strong></p>\n</div>\n\n<hr>\n"
        },
        {
            "metadata": {},
            "cell_type": "code",
            "source": "!pip install yfinance\n#!pip install pandas",
            "execution_count": 1,
            "outputs": [
                {
                    "output_type": "stream",
                    "text": "Collecting yfinance\n  Downloading yfinance-0.1.55.tar.gz (23 kB)\nRequirement already satisfied: pandas>=0.24 in /opt/conda/envs/Python-3.7-main/lib/python3.7/site-packages (from yfinance) (1.0.5)\nRequirement already satisfied: numpy>=1.15 in /opt/conda/envs/Python-3.7-main/lib/python3.7/site-packages (from yfinance) (1.18.5)\nRequirement already satisfied: requests>=2.20 in /opt/conda/envs/Python-3.7-main/lib/python3.7/site-packages (from yfinance) (2.24.0)\nCollecting multitasking>=0.0.7\n  Downloading multitasking-0.0.9.tar.gz (8.1 kB)\nRequirement already satisfied: lxml>=4.5.1 in /opt/conda/envs/Python-3.7-main/lib/python3.7/site-packages (from yfinance) (4.5.1)\nRequirement already satisfied: pytz>=2017.2 in /opt/conda/envs/Python-3.7-main/lib/python3.7/site-packages (from pandas>=0.24->yfinance) (2020.1)\nRequirement already satisfied: python-dateutil>=2.6.1 in /opt/conda/envs/Python-3.7-main/lib/python3.7/site-packages (from pandas>=0.24->yfinance) (2.8.1)\nRequirement already satisfied: chardet<4,>=3.0.2 in /opt/conda/envs/Python-3.7-main/lib/python3.7/site-packages (from requests>=2.20->yfinance) (3.0.4)\nRequirement already satisfied: certifi>=2017.4.17 in /opt/conda/envs/Python-3.7-main/lib/python3.7/site-packages (from requests>=2.20->yfinance) (2020.12.5)\nRequirement already satisfied: idna<3,>=2.5 in /opt/conda/envs/Python-3.7-main/lib/python3.7/site-packages (from requests>=2.20->yfinance) (2.9)\nRequirement already satisfied: urllib3!=1.25.0,!=1.25.1,<1.26,>=1.21.1 in /opt/conda/envs/Python-3.7-main/lib/python3.7/site-packages (from requests>=2.20->yfinance) (1.25.9)\nRequirement already satisfied: six>=1.5 in /opt/conda/envs/Python-3.7-main/lib/python3.7/site-packages (from python-dateutil>=2.6.1->pandas>=0.24->yfinance) (1.15.0)\nBuilding wheels for collected packages: yfinance, multitasking\n  Building wheel for yfinance (setup.py) ... \u001b[?25ldone\n\u001b[?25h  Created wheel for yfinance: filename=yfinance-0.1.55-py2.py3-none-any.whl size=22616 sha256=96cf06397145bd55742ea81e79d9c0488efbb0cdc8e01260ccdc8cb37638e882\n  Stored in directory: /tmp/wsuser/.cache/pip/wheels/aa/8a/36/59ed4f6fbcb6100967618eeb0696046bf9777a41ac2ff1f9b9\n  Building wheel for multitasking (setup.py) ... \u001b[?25ldone\n\u001b[?25h  Created wheel for multitasking: filename=multitasking-0.0.9-py3-none-any.whl size=8366 sha256=da533de704032d67334ed23d39a0fe7ef6cd1c8a5e68abdf1acd672ae4fcb4a6\n  Stored in directory: /tmp/wsuser/.cache/pip/wheels/ae/25/47/4d68431a7ec1b6c4b5233365934b74c1d4e665bf5f968d363a\nSuccessfully built yfinance multitasking\nInstalling collected packages: multitasking, yfinance\nSuccessfully installed multitasking-0.0.9 yfinance-0.1.55\n",
                    "name": "stdout"
                }
            ]
        },
        {
            "metadata": {},
            "cell_type": "code",
            "source": "import yfinance as yf\nimport pandas as pd",
            "execution_count": 2,
            "outputs": []
        },
        {
            "metadata": {},
            "cell_type": "markdown",
            "source": "## Using the yfinance Library to Extract Stock Data\n"
        },
        {
            "metadata": {},
            "cell_type": "markdown",
            "source": "Using the `Ticker` module we can create an object that will allow us to access functions to extract data. To do this we need to provide the ticker symbol for the stock, here the company is Apple and the ticker symbol is `AAPL`.\n"
        },
        {
            "metadata": {},
            "cell_type": "code",
            "source": "apple = yf.Ticker(\"AAPL\")",
            "execution_count": 3,
            "outputs": []
        },
        {
            "metadata": {},
            "cell_type": "markdown",
            "source": "Now we can access functions and variables to extract the type of data we need. You can view them and what they represent here [https://aroussi.com/post/python-yahoo-finance](https://aroussi.com/post/python-yahoo-finance?cm_mmc=Email_Newsletter-_-Developer_Ed%2BTech-_-WW_WW-_-SkillsNetwork-Courses-IBMDeveloperSkillsNetwork-PY0220EN-SkillsNetwork-23455606&cm_mmca1=000026UJ&cm_mmca2=10006555&cm_mmca3=M12345678&cvosrc=email.Newsletter.M12345678&cvo_campaign=000026UJ&cm_mmc=Email_Newsletter-_-Developer_Ed%2BTech-_-WW_WW-_-SkillsNetwork-Courses-IBMDeveloperSkillsNetwork-PY0220EN-SkillsNetwork-23455606&cm_mmca1=000026UJ&cm_mmca2=10006555&cm_mmca3=M12345678&cvosrc=email.Newsletter.M12345678&cvo_campaign=000026UJ).\n"
        },
        {
            "metadata": {},
            "cell_type": "markdown",
            "source": "### Stock Info\n"
        },
        {
            "metadata": {},
            "cell_type": "markdown",
            "source": "Using the attribute  <code>info</code> we can extract information about the stock as a Python dictionary.\n"
        },
        {
            "metadata": {},
            "cell_type": "code",
            "source": "apple_info=apple.info\napple_info",
            "execution_count": 4,
            "outputs": [
                {
                    "output_type": "execute_result",
                    "execution_count": 4,
                    "data": {
                        "text/plain": "{'zip': '95014',\n 'sector': 'Technology',\n 'fullTimeEmployees': 147000,\n 'longBusinessSummary': 'Apple Inc. designs, manufactures, and markets smartphones, personal computers, tablets, wearables, and accessories worldwide. It also sells various related services. The company offers iPhone, a line of smartphones; Mac, a line of personal computers; iPad, a line of multi-purpose tablets; and wearables, home, and accessories comprising AirPods, Apple TV, Apple Watch, Beats products, HomePod, iPod touch, and other Apple-branded and third-party accessories. It also provides AppleCare support services; cloud services store services; and operates various platforms, including the App Store, that allow customers to discover and download applications and digital content, such as books, music, video, games, and podcasts. In addition, the company offers various services, such as Apple Arcade, a game subscription service; Apple Music, which offers users a curated listening experience with on-demand radio stations; Apple News+, a subscription news and magazine service; Apple TV+, which offers exclusive original content; Apple Card, a co-branded credit card; and Apple Pay, a cashless payment service, as well as licenses its intellectual property. The company serves consumers, and small and mid-sized businesses; and the education, enterprise, and government markets. It sells and delivers third-party applications for its products through the App Store. The company also sells its products through its retail and online stores, and direct sales force; and third-party cellular network carriers, wholesalers, retailers, and resellers. Apple Inc. was founded in 1977 and is headquartered in Cupertino, California.',\n 'city': 'Cupertino',\n 'phone': '408-996-1010',\n 'state': 'CA',\n 'country': 'United States',\n 'companyOfficers': [],\n 'website': 'http://www.apple.com',\n 'maxAge': 1,\n 'address1': 'One Apple Park Way',\n 'industry': 'Consumer Electronics',\n 'previousClose': 129.87,\n 'regularMarketOpen': 128.01,\n 'twoHundredDayAverage': 122.48235,\n 'trailingAnnualDividendYield': 0.006213906,\n 'payoutRatio': 0.2177,\n 'volume24Hr': None,\n 'regularMarketDayHigh': 129.72,\n 'navPrice': None,\n 'averageDailyVolume10Day': 84633080,\n 'totalAssets': None,\n 'regularMarketPreviousClose': 129.87,\n 'fiftyDayAverage': 133.55576,\n 'trailingAnnualDividendRate': 0.807,\n 'open': 128.01,\n 'toCurrency': None,\n 'averageVolume10days': 84633080,\n 'expireDate': None,\n 'yield': None,\n 'algorithm': None,\n 'dividendRate': 0.82,\n 'exDividendDate': 1612483200,\n 'beta': 1.267876,\n 'circulatingSupply': None,\n 'startDate': None,\n 'regularMarketDayLow': 125.6,\n 'priceHint': 2,\n 'currency': 'USD',\n 'trailingPE': 34.174126,\n 'regularMarketVolume': 103916419,\n 'lastMarket': None,\n 'maxSupply': None,\n 'openInterest': None,\n 'marketCap': 2115300622336,\n 'volumeAllCurrencies': None,\n 'strikePrice': None,\n 'averageVolume': 104100136,\n 'priceToSalesTrailing12Months': 7.1915975,\n 'dayLow': 125.6,\n 'ask': 125.82,\n 'ytdReturn': None,\n 'askSize': 1100,\n 'volume': 103916419,\n 'fiftyTwoWeekHigh': 145.09,\n 'forwardPE': 26.923079,\n 'fromCurrency': None,\n 'fiveYearAvgDividendYield': 1.44,\n 'fiftyTwoWeekLow': 53.1525,\n 'bid': 125.8,\n 'tradeable': False,\n 'dividendYield': 0.0063,\n 'bidSize': 3100,\n 'dayHigh': 129.72,\n 'exchange': 'NMS',\n 'shortName': 'Apple Inc.',\n 'longName': 'Apple Inc.',\n 'exchangeTimezoneName': 'America/New_York',\n 'exchangeTimezoneShortName': 'EST',\n 'isEsgPopulated': False,\n 'gmtOffSetMilliseconds': '-18000000',\n 'quoteType': 'EQUITY',\n 'symbol': 'AAPL',\n 'messageBoardId': 'finmb_24937',\n 'market': 'us_market',\n 'annualHoldingsTurnover': None,\n 'enterpriseToRevenue': 7.532,\n 'beta3Year': None,\n 'profitMargins': 0.21735,\n 'enterpriseToEbitda': 26.016,\n '52WeekChange': 0.74216914,\n 'morningStarRiskRating': None,\n 'forwardEps': 4.68,\n 'revenueQuarterlyGrowth': None,\n 'sharesOutstanding': 16788100096,\n 'fundInceptionDate': None,\n 'annualReportExpenseRatio': None,\n 'bookValue': 3.936,\n 'sharesShort': 91862600,\n 'sharesPercentSharesOut': 0.0055,\n 'fundFamily': None,\n 'lastFiscalYearEnd': 1601078400,\n 'heldPercentInstitutions': 0.59661996,\n 'netIncomeToCommon': 63929999360,\n 'trailingEps': 3.687,\n 'lastDividendValue': 0.205,\n 'SandP52WeekChange': 0.21104872,\n 'priceToBook': 32.012196,\n 'heldPercentInsiders': 0.00065,\n 'nextFiscalYearEnd': 1664150400,\n 'mostRecentQuarter': 1608940800,\n 'shortRatio': 0.79,\n 'sharesShortPreviousMonthDate': 1609372800,\n 'floatShares': 16770804261,\n 'enterpriseValue': 2215486947328,\n 'threeYearAverageReturn': None,\n 'lastSplitDate': 1598832000,\n 'lastSplitFactor': '4:1',\n 'legalType': None,\n 'lastDividendDate': 1612483200,\n 'morningStarOverallRating': None,\n 'earningsQuarterlyGrowth': 0.293,\n 'dateShortInterest': 1611878400,\n 'pegRatio': 2.02,\n 'lastCapGain': None,\n 'shortPercentOfFloat': 0.0055,\n 'sharesShortPriorMonth': 91091816,\n 'impliedSharesOutstanding': None,\n 'category': None,\n 'fiveYearAverageReturn': None,\n 'regularMarketPrice': 128.01,\n 'logo_url': 'https://logo.clearbit.com/apple.com'}"
                    },
                    "metadata": {}
                }
            ]
        },
        {
            "metadata": {},
            "cell_type": "markdown",
            "source": "We can get the <code>'country'</code> using the key country\n"
        },
        {
            "metadata": {},
            "cell_type": "code",
            "source": "apple_info['country']",
            "execution_count": 5,
            "outputs": [
                {
                    "output_type": "execute_result",
                    "execution_count": 5,
                    "data": {
                        "text/plain": "'United States'"
                    },
                    "metadata": {}
                }
            ]
        },
        {
            "metadata": {},
            "cell_type": "markdown",
            "source": "### Extracting Share Price\n"
        },
        {
            "metadata": {},
            "cell_type": "markdown",
            "source": "A share is the single smallest part of a company's stock  that you can buy, the prices of these shares fluctuate over time. Using the <code>history()</code> method we can get the share price of the stock over a certain period of time. Using the `period` parameter we can set how far back from the present to get data. The options for `period` are 1 day (1d), 5d, 1 month (1mo) , 3mo, 6mo, 1 year (1y), 2y, 5y, 10y, ytd, and max.\n"
        },
        {
            "metadata": {},
            "cell_type": "code",
            "source": "apple_share_price_data = apple.history(period=\"max\")",
            "execution_count": 6,
            "outputs": []
        },
        {
            "metadata": {},
            "cell_type": "markdown",
            "source": "The format that the data is returned in is a Pandas DataFrame. With the `Date` as the index the share `Open`, `High`, `Low`, `Close`, `Volume`, and `Stock Splits` are given for each day.\n"
        },
        {
            "metadata": {},
            "cell_type": "code",
            "source": "apple_share_price_data.head()",
            "execution_count": 7,
            "outputs": [
                {
                    "output_type": "execute_result",
                    "execution_count": 7,
                    "data": {
                        "text/plain": "                Open      High       Low     Close     Volume  Dividends  \\\nDate                                                                       \n1980-12-12  0.100922  0.101361  0.100922  0.100922  469033600        0.0   \n1980-12-15  0.096096  0.096096  0.095657  0.095657  175884800        0.0   \n1980-12-16  0.089075  0.089075  0.088636  0.088636  105728000        0.0   \n1980-12-17  0.090830  0.091268  0.090830  0.090830   86441600        0.0   \n1980-12-18  0.093463  0.093902  0.093463  0.093463   73449600        0.0   \n\n            Stock Splits  \nDate                      \n1980-12-12           0.0  \n1980-12-15           0.0  \n1980-12-16           0.0  \n1980-12-17           0.0  \n1980-12-18           0.0  ",
                        "text/html": "<div>\n<style scoped>\n    .dataframe tbody tr th:only-of-type {\n        vertical-align: middle;\n    }\n\n    .dataframe tbody tr th {\n        vertical-align: top;\n    }\n\n    .dataframe thead th {\n        text-align: right;\n    }\n</style>\n<table border=\"1\" class=\"dataframe\">\n  <thead>\n    <tr style=\"text-align: right;\">\n      <th></th>\n      <th>Open</th>\n      <th>High</th>\n      <th>Low</th>\n      <th>Close</th>\n      <th>Volume</th>\n      <th>Dividends</th>\n      <th>Stock Splits</th>\n    </tr>\n    <tr>\n      <th>Date</th>\n      <th></th>\n      <th></th>\n      <th></th>\n      <th></th>\n      <th></th>\n      <th></th>\n      <th></th>\n    </tr>\n  </thead>\n  <tbody>\n    <tr>\n      <th>1980-12-12</th>\n      <td>0.100922</td>\n      <td>0.101361</td>\n      <td>0.100922</td>\n      <td>0.100922</td>\n      <td>469033600</td>\n      <td>0.0</td>\n      <td>0.0</td>\n    </tr>\n    <tr>\n      <th>1980-12-15</th>\n      <td>0.096096</td>\n      <td>0.096096</td>\n      <td>0.095657</td>\n      <td>0.095657</td>\n      <td>175884800</td>\n      <td>0.0</td>\n      <td>0.0</td>\n    </tr>\n    <tr>\n      <th>1980-12-16</th>\n      <td>0.089075</td>\n      <td>0.089075</td>\n      <td>0.088636</td>\n      <td>0.088636</td>\n      <td>105728000</td>\n      <td>0.0</td>\n      <td>0.0</td>\n    </tr>\n    <tr>\n      <th>1980-12-17</th>\n      <td>0.090830</td>\n      <td>0.091268</td>\n      <td>0.090830</td>\n      <td>0.090830</td>\n      <td>86441600</td>\n      <td>0.0</td>\n      <td>0.0</td>\n    </tr>\n    <tr>\n      <th>1980-12-18</th>\n      <td>0.093463</td>\n      <td>0.093902</td>\n      <td>0.093463</td>\n      <td>0.093463</td>\n      <td>73449600</td>\n      <td>0.0</td>\n      <td>0.0</td>\n    </tr>\n  </tbody>\n</table>\n</div>"
                    },
                    "metadata": {}
                }
            ]
        },
        {
            "metadata": {},
            "cell_type": "markdown",
            "source": "We can reset the index of the DataFrame with the `reset_index` function. We also set the `inplace` paramter to `True` so the change takes place to the DataFrame itself.\n"
        },
        {
            "metadata": {},
            "cell_type": "code",
            "source": "apple_share_price_data.reset_index(inplace=True)",
            "execution_count": 8,
            "outputs": []
        },
        {
            "metadata": {},
            "cell_type": "markdown",
            "source": "We can plot the `Open` price against the `Date`:\n"
        },
        {
            "metadata": {},
            "cell_type": "code",
            "source": "apple_share_price_data.plot(x=\"Date\", y=\"Open\")",
            "execution_count": 9,
            "outputs": [
                {
                    "output_type": "execute_result",
                    "execution_count": 9,
                    "data": {
                        "text/plain": "<matplotlib.axes._subplots.AxesSubplot at 0x7f0e246e7c10>"
                    },
                    "metadata": {}
                },
                {
                    "output_type": "display_data",
                    "data": {
                        "text/plain": "<Figure size 432x288 with 1 Axes>",
                        "image/png": "[encoded data removed]"
                    },
                    "metadata": {
                        "needs_background": "light"
                    }
                }
            ]
        },
        {
            "metadata": {},
            "cell_type": "markdown",
            "source": "### Extracting Dividends\n"
        },
        {
            "metadata": {},
            "cell_type": "markdown",
            "source": "Dividends are the distribution of a companys profits to shareholders. In this case they are defined as an amount of money returned per share an investor owns. Using the variable `dividends` we can get a dataframe of the data. The period of the data is given by the period defined in the 'history` function.\n"
        },
        {
            "metadata": {},
            "cell_type": "code",
            "source": "apple.dividends",
            "execution_count": 10,
            "outputs": [
                {
                    "output_type": "execute_result",
                    "execution_count": 10,
                    "data": {
                        "text/plain": "Date\n1987-05-11    0.000536\n1987-08-10    0.000536\n1987-11-17    0.000714\n1988-02-12    0.000714\n1988-05-16    0.000714\n                ...   \n2020-02-07    0.192500\n2020-05-08    0.205000\n2020-08-07    0.205000\n2020-11-06    0.205000\n2021-02-05    0.205000\nName: Dividends, Length: 70, dtype: float64"
                    },
                    "metadata": {}
                }
            ]
        },
        {
            "metadata": {},
            "cell_type": "markdown",
            "source": "We can plot the dividends overtime:\n"
        },
        {
            "metadata": {},
            "cell_type": "code",
            "source": "apple.dividends.plot()",
            "execution_count": 11,
            "outputs": [
                {
                    "output_type": "execute_result",
                    "execution_count": 11,
                    "data": {
                        "text/plain": "<matplotlib.axes._subplots.AxesSubplot at 0x7f0e2450e0d0>"
                    },
                    "metadata": {}
                },
                {
                    "output_type": "display_data",
                    "data": {
                        "text/plain": "<Figure size 432x288 with 1 Axes>",
                        "image/png": "[encoded data removed]"
                    },
                    "metadata": {
                        "needs_background": "light"
                    }
                }
            ]
        },
        {
            "metadata": {},
            "cell_type": "markdown",
            "source": "## Exercise\n"
        },
        {
            "metadata": {},
            "cell_type": "markdown",
            "source": "Now using the `Ticker` module create an object for AMD (Advanced Micro Devices) with the ticker symbol is `AMD` called; name the object <code>amd</code>.\n"
        },
        {
            "metadata": {},
            "cell_type": "code",
            "source": "amd = yf.Ticker(\"AMD\")",
            "execution_count": 12,
            "outputs": []
        },
        {
            "metadata": {},
            "cell_type": "code",
            "source": "amd_info=amd.info\namd_info",
            "execution_count": 13,
            "outputs": [
                {
                    "output_type": "execute_result",
                    "execution_count": 13,
                    "data": {
                        "text/plain": "{'zip': '95054',\n 'sector': 'Technology',\n 'fullTimeEmployees': 12600,\n 'longBusinessSummary': 'Advanced Micro Devices, Inc. operates as a semiconductor company worldwide. The company operates in two segments, Computing and Graphics; and Enterprise, Embedded and Semi-Custom. Its products include x86 microprocessors as an accelerated processing unit, chipsets, discrete and integrated graphics processing units (GPUs), data center and professional GPUs, and development services; and server and embedded processors, and semi-custom System-on-Chip (SoC) products, development services, and technology for game consoles. The company provides x86 microprocessors for desktop PCs under the AMD Ryzen, AMD Ryzen PRO, Ryzen, Threadripper, AMD A-Series, AMD FX, AMD Athlon, AMD Athlon PRO, and AMD Pro A-Series processors brands; microprocessors for notebook and 2-in-1s under the AMD Ryzen, AMD A-Series, AMD Athlon, AMD Ryzen PRO, AMD Athlon PRO, and AMD Pro A-Series processors brands; microprocessors for servers under the AMD EPYC and AMD Opteron brands; and chipsets under the AMD trademark. It also offers discrete GPUs for desktop and notebook PCs under the AMD Radeon graphics and AMD Embedded Radeon brands; professional graphics products under the AMD Radeon Pro and AMD FirePro graphics brands; and Radeon Instinct and AMD Instinct accelerators for servers. In addition, the company provides embedded processor solutions under the AMD Opteron, AMD Athlon, AMD Geode, AMD Ryzen, AMD EPYC, AMD R-Series, and G-Series processors brands; and customer-specific solutions based on AMD CPU, GPU, and multi-media technologies, as well as semi-custom SoC products. It serves original equipment manufacturers, public cloud service providers, original design manufacturers, system integrators, independent distributors, online retailers, and add-in-board manufacturers through its direct sales force, independent distributors, and sales representatives. Advanced Micro Devices, Inc. was founded in 1969 and is headquartered in Santa Clara, California.',\n 'city': 'Santa Clara',\n 'phone': '408 749 4000',\n 'state': 'CA',\n 'country': 'United States',\n 'companyOfficers': [],\n 'website': 'http://www.amd.com',\n 'maxAge': 1,\n 'address1': '2485 Augustine Drive',\n 'industry': 'Semiconductors',\n 'previousClose': 89.58,\n 'regularMarketOpen': 88.15,\n 'twoHundredDayAverage': 86.064926,\n 'trailingAnnualDividendYield': None,\n 'payoutRatio': 0,\n 'volume24Hr': None,\n 'regularMarketDayHigh': 88.3,\n 'navPrice': None,\n 'averageDailyVolume10Day': 34212600,\n 'totalAssets': None,\n 'regularMarketPreviousClose': 89.58,\n 'fiftyDayAverage': 90.994545,\n 'trailingAnnualDividendRate': None,\n 'open': 88.15,\n 'toCurrency': None,\n 'averageVolume10days': 34212600,\n 'expireDate': None,\n 'yield': None,\n 'algorithm': None,\n 'dividendRate': None,\n 'exDividendDate': 798940800,\n 'beta': 2.199573,\n 'circulatingSupply': None,\n 'startDate': None,\n 'regularMarketDayLow': 85.21,\n 'priceHint': 2,\n 'currency': 'USD',\n 'trailingPE': 41.36144,\n 'regularMarketVolume': 36930182,\n 'lastMarket': None,\n 'maxSupply': None,\n 'openInterest': None,\n 'marketCap': 103410401280,\n 'volumeAllCurrencies': None,\n 'strikePrice': None,\n 'averageVolume': 43048848,\n 'priceToSalesTrailing12Months': 10.592072,\n 'dayLow': 85.21,\n 'ask': 85.24,\n 'ytdReturn': None,\n 'askSize': 900,\n 'volume': 36930182,\n 'fiftyTwoWeekHigh': 99.23,\n 'forwardPE': 33.876984,\n 'fromCurrency': None,\n 'fiveYearAvgDividendYield': None,\n 'fiftyTwoWeekLow': 36.75,\n 'bid': 85.52,\n 'tradeable': False,\n 'dividendYield': None,\n 'bidSize': 1000,\n 'dayHigh': 88.3,\n 'exchange': 'NMS',\n 'shortName': 'Advanced Micro Devices, Inc.',\n 'longName': 'Advanced Micro Devices, Inc.',\n 'exchangeTimezoneName': 'America/New_York',\n 'exchangeTimezoneShortName': 'EST',\n 'isEsgPopulated': False,\n 'gmtOffSetMilliseconds': '-18000000',\n 'quoteType': 'EQUITY',\n 'symbol': 'AMD',\n 'messageBoardId': 'finmb_168864',\n 'market': 'us_market',\n 'annualHoldingsTurnover': None,\n 'enterpriseToRevenue': 10.938,\n 'beta3Year': None,\n 'profitMargins': 0.25504,\n 'enterpriseToEbitda': 63.527,\n '52WeekChange': 0.8236971,\n 'morningStarRiskRating': None,\n 'forwardEps': 2.52,\n 'revenueQuarterlyGrowth': None,\n 'sharesOutstanding': 1211320064,\n 'fundInceptionDate': None,\n 'annualReportExpenseRatio': None,\n 'bookValue': 4.82,\n 'sharesShort': 78642593,\n 'sharesPercentSharesOut': 0.064899996,\n 'fundFamily': None,\n 'lastFiscalYearEnd': 1608940800,\n 'heldPercentInstitutions': 0.73875,\n 'netIncomeToCommon': 2489999872,\n 'trailingEps': 2.064,\n 'lastDividendValue': None,\n 'SandP52WeekChange': 0.21104872,\n 'priceToBook': 17.711618,\n 'heldPercentInsiders': 0.0062,\n 'nextFiscalYearEnd': 1672012800,\n 'mostRecentQuarter': 1608940800,\n 'shortRatio': 1.6,\n 'sharesShortPreviousMonthDate': 1609372800,\n 'floatShares': 1204278811,\n 'enterpriseValue': 106788462592,\n 'threeYearAverageReturn': None,\n 'lastSplitDate': 966902400,\n 'lastSplitFactor': '2:1',\n 'legalType': None,\n 'lastDividendDate': None,\n 'morningStarOverallRating': None,\n 'earningsQuarterlyGrowth': 9.476,\n 'dateShortInterest': 1611878400,\n 'pegRatio': 1.73,\n 'lastCapGain': None,\n 'shortPercentOfFloat': 0.0653,\n 'sharesShortPriorMonth': 60682386,\n 'impliedSharesOutstanding': None,\n 'category': None,\n 'fiveYearAverageReturn': None,\n 'regularMarketPrice': 88.15,\n 'logo_url': 'https://logo.clearbit.com/amd.com'}"
                    },
                    "metadata": {}
                }
            ]
        },
        {
            "metadata": {},
            "cell_type": "markdown",
            "source": "<b>Question 1</b> Use the key  <code>'country'</code> to find the country the stock belongs to, remember it as it will be a quiz question.\n"
        },
        {
            "metadata": {},
            "cell_type": "code",
            "source": "amd_info['country']",
            "execution_count": 14,
            "outputs": [
                {
                    "output_type": "execute_result",
                    "execution_count": 14,
                    "data": {
                        "text/plain": "'United States'"
                    },
                    "metadata": {}
                }
            ]
        },
        {
            "metadata": {},
            "cell_type": "markdown",
            "source": "<b>Question 2</b> Use the key  <code>'sector'</code> to find the sector the stock belongs to, remember it as it will be a quiz question.\n"
        },
        {
            "metadata": {},
            "cell_type": "code",
            "source": "amd_info['sector']",
            "execution_count": 15,
            "outputs": [
                {
                    "output_type": "execute_result",
                    "execution_count": 15,
                    "data": {
                        "text/plain": "'Technology'"
                    },
                    "metadata": {}
                }
            ]
        },
        {
            "metadata": {},
            "cell_type": "markdown",
            "source": "<b>Question 3</b> Find the max of the <code>Volume</code> column of AMD using the `history` function, set the <code>period</code> to max.\n"
        },
        {
            "metadata": {},
            "cell_type": "code",
            "source": "amd_share_price_data = amd.history(period=\"max\")\namd_share_price_data['Volume'].max()",
            "execution_count": 19,
            "outputs": [
                {
                    "output_type": "execute_result",
                    "execution_count": 19,
                    "data": {
                        "text/plain": "325058400"
                    },
                    "metadata": {}
                }
            ]
        },
        {
            "metadata": {},
            "cell_type": "markdown",
            "source": "<h2>About the Authors:</h2> \n\n<a href=\"https://www.linkedin.com/in/joseph-s-50398b136/\">Joseph Santarcangelo</a> has a PhD in Electrical Engineering, his research focused on using machine learning, signal processing, and computer vision to determine how videos impact human cognition. Joseph has been working for IBM since he completed his PhD.\n\nAzim Hirjani\n"
        },
        {
            "metadata": {},
            "cell_type": "markdown",
            "source": "## Change Log\n\n| Date (YYYY-MM-DD) | Version | Changed By    | Change Description        |\n| ----------------- | ------- | ------------- | ------------------------- |\n| 2020-11-10        | 1.1     | Malika Singla | Deleted the Optional part |\n| 2020-08-27        | 1.0     | Malika Singla | Added lab to GitLab       |\n\n<hr>\n\n## <h3 align=\"center\"> \u00a9 IBM Corporation 2020. All rights reserved. <h3/>\n\n<p>\n"
        }
    ],
    "metadata": {
        "kernelspec": {
            "name": "python3",
            "display_name": "Python 3.7",
            "language": "python"
        },
        "language_info": {
            "name": "python",
            "version": "3.7.9",
            "mimetype": "text/x-python",
            "codemirror_mode": {
                "name": "ipython",
                "version": 3
            },
            "pygments_lexer": "ipython3",
            "nbconvert_exporter": "python",
            "file_extension": ".py"
        }
    },
    "nbformat": 4,
    "nbformat_minor": 4
}